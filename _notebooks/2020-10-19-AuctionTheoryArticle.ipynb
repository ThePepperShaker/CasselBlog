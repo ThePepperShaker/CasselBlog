{
 "cells": [
  {
   "cell_type": "markdown",
   "metadata": {},
   "source": [
    "# How Auctions Shape the Future\n",
    "\n",
    "- toc: true \n",
    "- badges: false\n",
    "- comments: true\n",
    "- author: Timothy Cassel\n",
    "- categories: []\n",
    "- image: images/Auction_Pic.png"
   ]
  },
  {
   "cell_type": "markdown",
   "metadata": {},
   "source": [
    "The 2020 Nobel Prize in Economics was awarded to Paul R. Milgrom and Robert B. Wilson \"for improvements to auction theory and inventions of new auction formats\". <br> As a current student of Economics taking a course in advanced microeconomics, this work intrigued me. Moreover, I have dedicated some of my free time to reading a book by Shoshanna Zuboff titled \"The Age of Surveillance Capitalism\", wherein Chapter 3 she discusses how Google revolutionzed their online advertising by initiating an ad auction system called AdWorks, intially devised by lead Economist of Google Hal Varian. "
   ]
  },
  {
   "cell_type": "markdown",
   "metadata": {},
   "source": [
    "In the following article, I will first provide a basic overview of auction theory and second, discuss Google and how it uses auctions to drive their advertising campaigns."
   ]
  },
  {
   "cell_type": "code",
   "execution_count": null,
   "metadata": {},
   "outputs": [],
   "source": []
  },
  {
   "cell_type": "code",
   "execution_count": null,
   "metadata": {},
   "outputs": [],
   "source": []
  },
  {
   "cell_type": "code",
   "execution_count": null,
   "metadata": {},
   "outputs": [],
   "source": []
  },
  {
   "cell_type": "markdown",
   "metadata": {},
   "source": [
    "## Footnotes"
   ]
  }
 ],
 "metadata": {
  "kernelspec": {
   "display_name": "Python 3",
   "language": "python",
   "name": "python3"
  },
  "language_info": {
   "codemirror_mode": {
    "name": "ipython",
    "version": 3
   },
   "file_extension": ".py",
   "mimetype": "text/x-python",
   "name": "python",
   "nbconvert_exporter": "python",
   "pygments_lexer": "ipython3",
   "version": "3.7.1"
  }
 },
 "nbformat": 4,
 "nbformat_minor": 2
}
