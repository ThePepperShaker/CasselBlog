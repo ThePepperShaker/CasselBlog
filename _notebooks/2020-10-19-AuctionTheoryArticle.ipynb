{
 "cells": [
  {
   "cell_type": "markdown",
   "metadata": {},
   "source": [
    "# Auction Theory - A New Perspective\n",
    "\n",
    "- toc: true \n",
    "- badges: false\n",
    "- comments: true\n",
    "- author: Timothy Cassel\n",
    "- categories: [Microeconomic Theory]\n",
    "- image: images/Auction_temp.jpg"
   ]
  },
  {
   "cell_type": "markdown",
   "metadata": {},
   "source": [
    "The 2020 Nobel Prize in Economics was awarded to Paul R. Milgrom abd Robert B. Wilson \"for imporvements to auction theroy and invetions of new auction formats\". <br> As a current student of Economics taking a course in advanced microeconomics, this work intrigued me. Moreover, I have dedicated some of my free time to reading a book by Shoshanna Zuboff titled \"The Age of Surveillance Capitalism\", wherein Chapter 3 she discusses how Google revolutionzed their online advertising by appealing to an ad auction system, devised by lead Economist Hal Varian. "
   ]
  },
  {
   "cell_type": "markdown",
   "metadata": {},
   "source": [
    "In the following article, I will provide an overview on the state of the art in auction theory and discuss how Google uses auctions to drive their advertising campaigns."
   ]
  },
  {
   "cell_type": "code",
   "execution_count": null,
   "metadata": {},
   "outputs": [],
   "source": []
  },
  {
   "cell_type": "code",
   "execution_count": null,
   "metadata": {},
   "outputs": [],
   "source": []
  },
  {
   "cell_type": "code",
   "execution_count": null,
   "metadata": {},
   "outputs": [],
   "source": []
  },
  {
   "cell_type": "markdown",
   "metadata": {},
   "source": [
    "## Footnotes"
   ]
  }
 ],
 "metadata": {
  "kernelspec": {
   "display_name": "Python 3",
   "language": "python",
   "name": "python3"
  },
  "language_info": {
   "codemirror_mode": {
    "name": "ipython",
    "version": 3
   },
   "file_extension": ".py",
   "mimetype": "text/x-python",
   "name": "python",
   "nbconvert_exporter": "python",
   "pygments_lexer": "ipython3",
   "version": "3.7.1"
  }
 },
 "nbformat": 4,
 "nbformat_minor": 2
}
